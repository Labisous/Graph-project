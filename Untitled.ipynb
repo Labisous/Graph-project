{
 "cells": [
  {
   "cell_type": "code",
   "execution_count": 1,
   "id": "361451c9",
   "metadata": {},
   "outputs": [
    {
     "data": {
      "text/plain": [
       "'Student Id:0232113102'"
      ]
     },
     "execution_count": 1,
     "metadata": {},
     "output_type": "execute_result"
    }
   ],
   "source": [
    "'Course:Graph Theory Project(MADS2023-2024)'\n",
    "'Name: Yashar Movahedi'\n",
    "'Student Id:0232113102'"
   ]
  },
  {
   "cell_type": "code",
   "execution_count": 2,
   "id": "2948440a",
   "metadata": {
    "is_executing": true
   },
   "outputs": [],
   "source": [
    "from main import build_decision_tree,predict_label\n",
    "import matplotlib.pyplot as plt\n",
    "import pandas as pd\n",
    "import numpy as np"
   ]
  },
  {
   "cell_type": "code",
   "execution_count": 3,
   "id": "59665b38",
   "metadata": {},
   "outputs": [
    {
     "name": "stdout",
     "output_type": "stream",
     "text": [
      "-3.41183305134728\n",
      "-3.98353225341726\n",
      "6.1365545053206\n",
      "1.02133220688236\n",
      "0.306334012537946\n",
      "0.271935334200929\n",
      "-1.26106111065441\n",
      "-1.67409240834064\n",
      "-1.7803103297689\n",
      "-2.05769044508146\n",
      "-3.31366936187419\n",
      "-3.21018784379627\n",
      "-2.94774637133201\n",
      "-0.280688227223354\n",
      "2.2706577658504\n",
      "1.81625181701252\n",
      "2.31341162547362\n",
      "5.47933267949934\n",
      "4.44038745790479\n",
      "3.58816822281254\n",
      "3.57245836763477\n",
      "3.30808200827559\n"
     ]
    },
    {
     "name": "stderr",
     "output_type": "stream",
     "text": [
      "C:\\Users\\Vampire\\Desktop\\Graph_Project\\main.py:19: RuntimeWarning: invalid value encountered in longlong_scalars\n",
      "  p = np.sum(left_labels) / len(left_labels)\n"
     ]
    }
   ],
   "source": [
    "# Assuming this is where you load your data and train the decision tree\n",
    "data = pd.read_csv('project(1).csv')\n",
    "values = data['V1'].values\n",
    "labels = data['V2'].values\n",
    "\n",
    "# Build the decision tree\n",
    "decision_tree = build_decision_tree(values, labels)"
   ]
  },
  {
   "cell_type": "code",
   "execution_count": 4,
   "id": "e12cdd73",
   "metadata": {},
   "outputs": [
    {
     "name": "stdout",
     "output_type": "stream",
     "text": [
      "Prediction for observation 1.2: Label 0\n",
      "Prediction for observation -4: Label 0\n",
      "Prediction for observation 3: Label 0\n"
     ]
    }
   ],
   "source": [
    "# Step 3: Predict labels for new observations\n",
    "new_observations = [1.2, -4, 3]\n",
    "## Iterate through each new observation and make predictions\n",
    "for observation in new_observations:\n",
    "    predicted_label = predict_label(decision_tree, observation)\n",
    "    print(f'Prediction for observation {observation}: Label {predicted_label}')"
   ]
  },
  {
   "cell_type": "code",
   "execution_count": 5,
   "id": "588531a2",
   "metadata": {},
   "outputs": [
    {
     "data": {
      "text/latex": [
       "\n",
       "\\[\n",
       "P_1 = \\left|\\{x_i \\mid v(x_i) < c_1\\}\\right| \\quad \\text{and} \\quad Q_1 = \\left|\\{x_i \\mid v(x_i) > c_1\\}\\right|,\n",
       "\\]\n",
       "\n",
       "\\[\n",
       "p_1 = \\frac{1}{P_1}\\sum_{x_i : v(x_i) < c_1} l(x_i) \\quad \\text{and} \\quad q_1 = \\frac{1}{Q_1}\\sum_{x_i : v(x_i) > c_1} l(x_i).\n",
       "\\]\n",
       "\n",
       "Here \\(p_1\\) and \\(q_1\\) represent the proportion of label 1 observations in the subsets made of the observations respectively smaller and larger than \\(c_1\\). You will choose \\(c_1\\) such that it minimizes\n",
       "\n",
       "\\[\n",
       "P_1p_1(1 - p_1) + Q_1q_1(1 - q_1),\n",
       "\\]\n",
       "\n",
       "the so-called Gini impurity.\n"
      ],
      "text/plain": [
       "<IPython.core.display.Latex object>"
      ]
     },
     "metadata": {},
     "output_type": "display_data"
    }
   ],
   "source": [
    "\n",
    "from IPython.display import Latex, display\n",
    "\n",
    "# Your LaTeX code\n",
    "latex_code = r\"\"\"\n",
    "\\[\n",
    "P_1 = \\left|\\{x_i \\mid v(x_i) < c_1\\}\\right| \\quad \\text{and} \\quad Q_1 = \\left|\\{x_i \\mid v(x_i) > c_1\\}\\right|,\n",
    "\\]\n",
    "\n",
    "\\[\n",
    "p_1 = \\frac{1}{P_1}\\sum_{x_i : v(x_i) < c_1} l(x_i) \\quad \\text{and} \\quad q_1 = \\frac{1}{Q_1}\\sum_{x_i : v(x_i) > c_1} l(x_i).\n",
    "\\]\n",
    "\n",
    "Here \\(p_1\\) and \\(q_1\\) represent the proportion of label 1 observations in the subsets made of the observations respectively smaller and larger than \\(c_1\\). You will choose \\(c_1\\) such that it minimizes\n",
    "\n",
    "\\[\n",
    "P_1p_1(1 - p_1) + Q_1q_1(1 - q_1),\n",
    "\\]\n",
    "\n",
    "the so-called Gini impurity.\n",
    "\"\"\"\n",
    "\n",
    "# Display the LaTeX code\n",
    "display(Latex(latex_code))\n",
    "\n",
    "\n",
    "\n"
   ]
  },
  {
   "cell_type": "markdown",
   "id": "2cfbcd49",
   "metadata": {},
   "source": [
    "P1 represents the count of observations (xi) where the value v(xi) is less than c1.\\\n",
    "Q1 represents the count of observations (xi) where the value v(xi) is greater than c1.\\\n",
    "In these formulas, we will build a decision tree, a tool that predicts outcomes. Think of a bunch of observations,we're figuring out the best way to split them using a value c1. The counts P1 and Q1 show how many are on each side, while p1 and q1 tell us the label proportions in each group.\\\n",
    "Our goal?is to pick c1 in a way that makes both groups as pure as possible. This helps our decision tree make accurate predictions for new observations.\n",
    "\n",
    "\n"
   ]
  },
  {
   "cell_type": "code",
   "execution_count": 6,
   "id": "8ae4c2e9",
   "metadata": {},
   "outputs": [
    {
     "name": "stdout",
     "output_type": "stream",
     "text": [
      "0.81\n"
     ]
    }
   ],
   "source": [
    "# Generate predictions on the training dataset using the decision tree\n",
    "## Calculate the accuracy by comparing predicted labels with actual labels\n",
    "train_prediction = [predict_label(decision_tree, o) for o in values]\n",
    "print(np.sum((labels == train_prediction) ** 2)/labels.shape[0])"
   ]
  },
  {
   "cell_type": "code",
   "execution_count": 7,
   "id": "08f787cb",
   "metadata": {},
   "outputs": [
    {
     "data": {
      "image/png": "[encoded data removed]",
      "text/plain": [
       "<Figure size 2000x200 with 1 Axes>"
      ]
     },
     "metadata": {},
     "output_type": "display_data"
    }
   ],
   "source": [
    "# Visualize the dataset and highlight new observations on the plot and Add vertical lines for each new observation (in green)\n",
    "#plt.figure(figsize=(20, 2))\n",
    "#plt.plot(data['V1'], data['V2'], '.')\n",
    "#for x in new_observations:\n",
    "    #plt.axvline(x, color='green')\n",
    "\n",
    "#plt.xlabel('Values')\n",
    "#plt.ylabel('Labels')\n",
    "#plt.show()\n",
    "# Visualize the dataset and highlight new observations on the plot with vertical green lines\n",
    "plt.figure(figsize=(20, 2))\n",
    "\n",
    "# Plot the dataset\n",
    "plt.plot(data['V1'], data['V2'], '.', label='Original Data')\n",
    "\n",
    "# Highlight new observations with red stars\n",
    "plt.plot(new_observations, [0] * len(new_observations), 'r*', markersize=10, label='New Observations')\n",
    "\n",
    "# Add vertical lines for each new observation (in green)\n",
    "for x in new_observations:\n",
    "    plt.axvline(x, color='green', linestyle='--', alpha=0.7)\n",
    "\n",
    "# Set plot labels and title\n",
    "plt.xlabel('Values')\n",
    "plt.ylabel('Labels')\n",
    "plt.title('Dataset Visualization with New Observations')\n",
    "\n",
    "# Add legend\n",
    "plt.legend()\n",
    "\n",
    "# Display the plot\n",
    "plt.show()\n",
    "\n"
   ]
  },
  {
   "cell_type": "markdown",
   "id": "d184262b",
   "metadata": {},
   "source": [
    "The decision tree model achieved an accuracy of 81% on the training dataset, indicating a reasonable level of performance. However, the predictions for the new observations all resulted in the label \"0.\" This might suggest a potential issue with the model, dataset, or feature representation that needs further investigation."
   ]
  },
  {
   "cell_type": "code",
   "execution_count": null,
   "id": "481812f6",
   "metadata": {},
   "outputs": [],
   "source": []
  }
 ],
 "metadata": {
  "kernelspec": {
   "display_name": "Python 3 (ipykernel)",
   "language": "python",
   "name": "python3"
  },
  "language_info": {
   "codemirror_mode": {
    "name": "ipython",
    "version": 3
   },
   "file_extension": ".py",
   "mimetype": "text/x-python",
   "name": "python",
   "nbconvert_exporter": "python",
   "pygments_lexer": "ipython3",
   "version": "3.10.9"
  }
 },
 "nbformat": 4,
 "nbformat_minor": 5
}
